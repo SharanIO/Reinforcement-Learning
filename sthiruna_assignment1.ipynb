{
  "nbformat": 4,
  "nbformat_minor": 0,
  "metadata": {
    "colab": {
      "provenance": [],
      "authorship_tag": "ABX9TyN6pghk7JbkOhLVb9Qb89zf",
      "include_colab_link": true
    },
    "kernelspec": {
      "name": "python3",
      "display_name": "Python 3"
    },
    "language_info": {
      "name": "python"
    }
  },
  "cells": [
    {
      "cell_type": "markdown",
      "metadata": {
        "id": "view-in-github",
        "colab_type": "text"
      },
      "source": [
        "<a href=\"https://colab.research.google.com/github/SharanIO/Reinforcement-Learning/blob/main/sthiruna_assignment1.ipynb\" target=\"_parent\"><img src=\"https://colab.research.google.com/assets/colab-badge.svg\" alt=\"Open In Colab\"/></a>"
      ]
    },
    {
      "cell_type": "code",
      "source": [
        "!pip install gymnasium matplotlib numpy"
      ],
      "metadata": {
        "id": "rGWRkrCjlpB5"
      },
      "execution_count": null,
      "outputs": []
    },
    {
      "cell_type": "code",
      "source": [
        "import numpy as np\n",
        "import matplotlib.pyplot as plt\n",
        "import matplotlib.patches as patches\n",
        "import time"
      ],
      "metadata": {
        "id": "SPiN_SktltOX"
      },
      "execution_count": null,
      "outputs": []
    },
    {
      "cell_type": "markdown",
      "source": [
        "Below is an example of the visualization of the grid world created using matplotlib."
      ],
      "metadata": {
        "id": "zZ1vYiMEbmcL"
      }
    },
    {
      "cell_type": "code",
      "source": [
        "x = np.linspace(0,4,5)\n",
        "y = np.linspace(0,4,5)\n",
        "fig = plt.figure()\n",
        "ax = fig.add_subplot(111)\n",
        "x1=np.random.randint(3)\n",
        "y1=np.random.randint(3)\n",
        "agent = patches.Rectangle((x1,y1),1, 1,color ='blue')#agent_pos\n",
        "plt.annotate(\"Agent\",(x1+0.25,y1+0.5))\n",
        "x2=np.random.randint(3)\n",
        "y2=np.random.randint(3)\n",
        "target = patches.Rectangle((x2, y2),1, 1,color ='green')#goal_pos\n",
        "plt.annotate(\"Target\",(x2+0.25,y2+0.5))\n",
        "reward1 = patches.Rectangle((np.random.randint(3),np.random.randint(3)),1, 1,color ='yellow')#goal_pos\n",
        "reward2 = patches.Rectangle((np.random.randint(3),np.random.randint(3)),1, 1,color ='red')#goal_pos\n",
        "reward3 = patches.Rectangle((np.random.randint(3),np.random.randint(3)),1, 1,color ='grey')#goal_pos\n",
        "reward4 = patches.Rectangle((np.random.randint(3),np.random.randint(3)),1, 1,color ='orange')#goal_pos\n",
        "ax.set_facecolor(\"white\")\n",
        "ax.add_patch(agent)\n",
        "ax.add_patch(target)\n",
        "ax.add_patch(reward1)\n",
        "ax.add_patch(reward2)\n",
        "ax.add_patch(reward3)\n",
        "ax.add_patch(reward4)\n",
        "\n",
        "#plt.axis([0,4,0,4])\n",
        "plt.xticks([0,1,2,3,4])\n",
        "plt.yticks([0,1,2,3,4])\n",
        "plt.grid()\n",
        "plt.show()\n",
        "plt.pause(1)\n",
        "plt.close()\n"
      ],
      "metadata": {
        "colab": {
          "base_uri": "https://localhost:8080/",
          "height": 269
        },
        "id": "f736dyhCl8kn",
        "outputId": "3454f246-641c-469d-876a-8452da998ad9"
      },
      "execution_count": null,
      "outputs": [
        {
          "output_type": "display_data",
          "data": {
            "text/plain": [
              "<Figure size 432x288 with 1 Axes>"
            ],
            "image/png": "[encoded data removed]"
          },
          "metadata": {
            "needs_background": "light"
          }
        }
      ]
    },
    {
      "cell_type": "code",
      "source": [
        "import gymnasium as gym\n",
        "from gymnasium import spaces\n",
        "import matplotlib.pyplot as plt\n",
        "import numpy as np\n",
        "import time"
      ],
      "metadata": {
        "id": "1dm0Fkpn3rBi"
      },
      "execution_count": null,
      "outputs": []
    },
    {
      "cell_type": "markdown",
      "source": [
        "A grid world is created using gymnasium. The stochastic environment considers the desired action 90% of the time and considers a random action 10% of the time."
      ],
      "metadata": {
        "id": "b7MX7GhPeKH7"
      }
    },
    {
      "cell_type": "code",
      "source": [
        "class MyGridWorldEnv(gym.Env):\n",
        "  metadata = { 'render.modes': [] }\n",
        "  \n",
        "  def __init__(self,environment_type):\n",
        "    self.observation_space = spaces.Discrete(16) # Observation space has 16 states\n",
        "    self.action_space = spaces.Discrete(4) # Action space has 4 states\n",
        "    self.max_timesteps = 10 # Number of steps the agent takes\n",
        "\n",
        "    self.timestep = 0 # Initial timestep\n",
        "    self.agent_pos = [0, 0] # Initial position of the agent\n",
        "    self.goal_pos = [3, 3] # Position of the target\n",
        "    self.reward_pos = [[1,1],[2,3],[0,3],[3,0]] #Custom positions of the rewards\n",
        "    self.obs_all = {\"agent\": self.agent_pos, \"target\": self.goal_pos} \n",
        "    self.environment_type = environment_type #Deterministic or Stochastic\n",
        "\n",
        "  def step(self,action):\n",
        "    if self.environment_type == \"deterministic\":\n",
        "      if action == 0:\n",
        "        self.agent_pos[0] += 1 #up\n",
        "      if action == 1:\n",
        "        self.agent_pos[0] -= 1 #down\n",
        "      if action == 2:\n",
        "        self.agent_pos[1] += 1 #right\n",
        "      if action == 3:\n",
        "        self.agent_pos[1] -= 1 #left\n",
        "\n",
        "    if self.environment_type == \"stochastic\":\n",
        "      print(\"actual value\",action)\n",
        "      if np.random.random()<0.9:\n",
        "        if action == 0:\n",
        "          self.agent_pos[0] += 1 #up\n",
        "        if action == 1:\n",
        "          self.agent_pos[0] -= 1 #down\n",
        "        if action == 2:\n",
        "          self.agent_pos[1] += 1 #right\n",
        "        if action == 3:\n",
        "          self.agent_pos[1] -= 1 #left\n",
        "      else:\n",
        "        action = np.random.choice(self.action_space.n)\n",
        "        print(\"Change in value\",action)\n",
        "        if action == 0:\n",
        "          self.agent_pos[0] += 1 #up\n",
        "        if action == 1:\n",
        "          self.agent_pos[0] -= 1 #down\n",
        "        if action == 2:\n",
        "          self.agent_pos[1] += 1 #right\n",
        "        if action == 3:\n",
        "          self.agent_pos[1] -= 1 #left\n",
        "\n",
        "    self.agent_pos = np.clip(self.agent_pos, 0, 2)\n",
        "    self.obs_all = {\"agent\": self.agent_pos, \"target\": self.goal_pos}\n",
        "    observation = self.obs_all\n",
        "\n",
        "    #Add more rewards and penalities\n",
        "    reward = 0\n",
        "    if np.array_equal(self.agent_pos, self.goal_pos):\n",
        "      reward = 10 #green\n",
        "    if np.array_equal(self.agent_pos, self.reward_pos[0]):\n",
        "      reward = 5 #yellow\n",
        "    if np.array_equal(self.agent_pos, self.reward_pos[1]):\n",
        "      reward = -3 #red\n",
        "    if np.array_equal(self.agent_pos, self.reward_pos[2]):\n",
        "      reward = 2 #grey\n",
        "    if np.array_equal(self.agent_pos, self.reward_pos[3]):\n",
        "      reward = 1 #orange\n",
        "\n",
        "    \n",
        "    self.timestep += 1\n",
        "    terminated = True if self.timestep >= self.max_timesteps else False #terminates at after max timesteps\n",
        "    truncated = True if np.all((self.agent_pos >=0 ) & (self.agent_pos <= 3)) else False #Allows the agent to not exit the environment boundary\n",
        "\n",
        "    info = {}\n",
        "        \n",
        "    return observation, reward, terminated, truncated, info\n",
        "\n",
        "  def reset(self):\n",
        "    self.agent_pos = [0, 0]\n",
        "    self.goal_pos = [3, 3]\n",
        "    self.obs_all = {\"agent\": self.agent_pos, \"target\": self.goal_pos}\n",
        "    observation = self.obs_all\n",
        "\n",
        "    info = {}\n",
        "\n",
        "    return observation, info\n",
        "\n",
        "  def render(self,obs):\n",
        "    fig = plt.figure()\n",
        "    ax = fig.add_subplot(111)\n",
        "    robot = patches.Rectangle(tuple(obs[\"agent\"]),1, 1,color ='blue')#agent_pos\n",
        "    target = patches.Rectangle(tuple(obs[\"target\"]),1, 1,color ='green')#goal_pos\n",
        "    reward1 = patches.Rectangle(tuple(self.reward_pos[0]),1, 1,color ='yellow')#5_pos\n",
        "    reward2 = patches.Rectangle(tuple(self.reward_pos[1]),1, 1,color ='red')#-3_pos\n",
        "    reward3 = patches.Rectangle(tuple(self.reward_pos[2]),1, 1,color ='grey')#2_pos\n",
        "    reward4 = patches.Rectangle(tuple(self.reward_pos[3]),1, 1,color ='orange')#1_pos\n",
        "    ax.set_facecolor(\"white\")\n",
        "    ax.add_patch(robot)\n",
        "    ax.add_patch(target)\n",
        "    ax.add_patch(reward1)\n",
        "    ax.add_patch(reward2)\n",
        "    ax.add_patch(reward3)\n",
        "    ax.add_patch(reward4)\n",
        "\n",
        "    #plt.axis([0,4,0,4])\n",
        "    plt.xticks([0,1,2,3,4])\n",
        "    plt.yticks([0,1,2,3,4])\n",
        "    plt.grid()\n",
        "    plt.show()\n",
        "    plt.pause(1)\n",
        "    plt.close()"
      ],
      "metadata": {
        "id": "ubsw5hpt34Y4"
      },
      "execution_count": null,
      "outputs": []
    },
    {
      "cell_type": "markdown",
      "source": [
        "A Random agent is created whose desired actions are random"
      ],
      "metadata": {
        "id": "cwz3haSEevXy"
      }
    },
    {
      "cell_type": "code",
      "source": [
        "class RandomAgent:\n",
        "  def __init__(self, env):\n",
        "    self.env = env\n",
        "    self.observation_space = env.observation_space\n",
        "    self.action_space = env.action_space\n",
        "\n",
        "  def step(self, obs):\n",
        "    return np.random.choice(self.action_space.n)"
      ],
      "metadata": {
        "id": "q3W7mAAOChgm"
      },
      "execution_count": null,
      "outputs": []
    },
    {
      "cell_type": "markdown",
      "source": [
        "The random agent is implemented in the deterministic environment."
      ],
      "metadata": {
        "id": "GddAFvope18M"
      }
    },
    {
      "cell_type": "code",
      "source": [
        "env = MyGridWorldEnv(\"deterministic\")\n",
        "agent = RandomAgent(env)\n",
        "\n",
        "obs, info = env.reset()\n",
        "env.render(obs)\n",
        "terminated, truncated = False, False\n",
        "total_reward = 0\n",
        "while not terminated:\n",
        "  action = agent.step(obs)\n",
        "  print(action)\n",
        "  obs, reward, terminated, truncated, info = env.step(action)\n",
        "  total_reward = total_reward + reward\n",
        "  print(obs)\n",
        "  print(\"reward\",reward)\n",
        "  print(\"total reward\",total_reward)\n",
        "  env.render(obs)\n",
        "\n"
      ],
      "metadata": {
        "colab": {
          "base_uri": "https://localhost:8080/",
          "height": 1000
        },
        "id": "HjCO2A8RCma2",
        "outputId": "eb70d970-05d9-4380-9869-b6d187d87ac6"
      },
      "execution_count": null,
      "outputs": [
        {
          "output_type": "display_data",
          "data": {
            "text/plain": [
              "<Figure size 432x288 with 1 Axes>"
            ],
            "image/png": "[encoded data removed]"
          },
          "metadata": {
            "needs_background": "light"
          }
        },
        {
          "output_type": "stream",
          "name": "stdout",
          "text": [
            "1\n",
            "{'agent': array([0, 0]), 'target': [3, 3]}\n",
            "reward 0\n",
            "total reward 0\n"
          ]
        },
        {
          "output_type": "display_data",
          "data": {
            "text/plain": [
              "<Figure size 432x288 with 1 Axes>"
            ],
            "image/png": "[encoded data removed]"
          },
          "metadata": {
            "needs_background": "light"
          }
        },
        {
          "output_type": "stream",
          "name": "stdout",
          "text": [
            "3\n",
            "{'agent': array([0, 0]), 'target': [3, 3]}\n",
            "reward 0\n",
            "total reward 0\n"
          ]
        },
        {
          "output_type": "display_data",
          "data": {
            "text/plain": [
              "<Figure size 432x288 with 1 Axes>"
            ],
            "image/png": "[encoded data removed]"
          },
          "metadata": {
            "needs_background": "light"
          }
        },
        {
          "output_type": "stream",
          "name": "stdout",
          "text": [
            "3\n",
            "{'agent': array([0, 0]), 'target': [3, 3]}\n",
            "reward 0\n",
            "total reward 0\n"
          ]
        },
        {
          "output_type": "display_data",
          "data": {
            "text/plain": [
              "<Figure size 432x288 with 1 Axes>"
            ],
            "image/png": "[encoded data removed]"
          },
          "metadata": {
            "needs_background": "light"
          }
        },
        {
          "output_type": "stream",
          "name": "stdout",
          "text": [
            "2\n",
            "{'agent': array([0, 1]), 'target': [3, 3]}\n",
            "reward 0\n",
            "total reward 0\n"
          ]
        },
        {
          "output_type": "display_data",
          "data": {
            "text/plain": [
              "<Figure size 432x288 with 1 Axes>"
            ],
            "image/png": "[encoded data removed]"
          },
          "metadata": {
            "needs_background": "light"
          }
        },
        {
          "output_type": "stream",
          "name": "stdout",
          "text": [
            "3\n",
            "{'agent': array([0, 0]), 'target': [3, 3]}\n",
            "reward 0\n",
            "total reward 0\n"
          ]
        },
        {
          "output_type": "display_data",
          "data": {
            "text/plain": [
              "<Figure size 432x288 with 1 Axes>"
            ],
            "image/png": "[encoded data removed]"
          },
          "metadata": {
            "needs_background": "light"
          }
        },
        {
          "output_type": "stream",
          "name": "stdout",
          "text": [
            "3\n",
            "{'agent': array([0, 0]), 'target': [3, 3]}\n",
            "reward 0\n",
            "total reward 0\n"
          ]
        },
        {
          "output_type": "display_data",
          "data": {
            "text/plain": [
              "<Figure size 432x288 with 1 Axes>"
            ],
            "image/png": "[encoded data removed]"
          },
          "metadata": {
            "needs_background": "light"
          }
        },
        {
          "output_type": "stream",
          "name": "stdout",
          "text": [
            "3\n",
            "{'agent': array([0, 0]), 'target': [3, 3]}\n",
            "reward 0\n",
            "total reward 0\n"
          ]
        },
        {
          "output_type": "display_data",
          "data": {
            "text/plain": [
              "<Figure size 432x288 with 1 Axes>"
            ],
            "image/png": "[encoded data removed]"
          },
          "metadata": {
            "needs_background": "light"
          }
        },
        {
          "output_type": "stream",
          "name": "stdout",
          "text": [
            "1\n",
            "{'agent': array([0, 0]), 'target': [3, 3]}\n",
            "reward 0\n",
            "total reward 0\n"
          ]
        },
        {
          "output_type": "display_data",
          "data": {
            "text/plain": [
              "<Figure size 432x288 with 1 Axes>"
            ],
            "image/png": "[encoded data removed]"
          },
          "metadata": {
            "needs_background": "light"
          }
        },
        {
          "output_type": "stream",
          "name": "stdout",
          "text": [
            "2\n",
            "{'agent': array([0, 1]), 'target': [3, 3]}\n",
            "reward 0\n",
            "total reward 0\n"
          ]
        },
        {
          "output_type": "display_data",
          "data": {
            "text/plain": [
              "<Figure size 432x288 with 1 Axes>"
            ],
            "image/png": "[encoded data removed]"
          },
          "metadata": {
            "needs_background": "light"
          }
        },
        {
          "output_type": "stream",
          "name": "stdout",
          "text": [
            "3\n",
            "{'agent': array([0, 0]), 'target': [3, 3]}\n",
            "reward 0\n",
            "total reward 0\n"
          ]
        },
        {
          "output_type": "display_data",
          "data": {
            "text/plain": [
              "<Figure size 432x288 with 1 Axes>"
            ],
            "image/png": "[encoded data removed]"
          },
          "metadata": {
            "needs_background": "light"
          }
        }
      ]
    },
    {
      "cell_type": "markdown",
      "source": [
        "The random is agent is implemented in the stochastic environment."
      ],
      "metadata": {
        "id": "AYin3B9-fHwv"
      }
    },
    {
      "cell_type": "code",
      "source": [
        "env = MyGridWorldEnv(\"stochastic\")\n",
        "agent = RandomAgent(env)\n",
        "\n",
        "obs, info = env.reset()\n",
        "env.render(obs)\n",
        "terminated, truncated = False, False\n",
        "total_reward = 0\n",
        "while not terminated:\n",
        "  action = agent.step(obs)\n",
        "  print(action)\n",
        "  obs, reward, terminated, truncated, info = env.step(action)\n",
        "  total_reward = total_reward + reward\n",
        "  print(obs)\n",
        "  print(\"reward\",reward)\n",
        "  print(\"total_reward\",total_reward)\n",
        "  env.render(obs)"
      ],
      "metadata": {
        "colab": {
          "base_uri": "https://localhost:8080/",
          "height": 1000
        },
        "id": "e458SG7Ia8DJ",
        "outputId": "b8cb4324-e2d0-4eb2-d229-67b681384f8e"
      },
      "execution_count": null,
      "outputs": [
        {
          "output_type": "display_data",
          "data": {
            "text/plain": [
              "<Figure size 432x288 with 1 Axes>"
            ],
            "image/png": "[encoded data removed]"
          },
          "metadata": {
            "needs_background": "light"
          }
        },
        {
          "output_type": "stream",
          "name": "stdout",
          "text": [
            "3\n",
            "actual value 3\n",
            "{'agent': array([0, 0]), 'target': [3, 3]}\n",
            "reward 0\n",
            "total_reward 0\n"
          ]
        },
        {
          "output_type": "display_data",
          "data": {
            "text/plain": [
              "<Figure size 432x288 with 1 Axes>"
            ],
            "image/png": "[encoded data removed]"
          },
          "metadata": {
            "needs_background": "light"
          }
        },
        {
          "output_type": "stream",
          "name": "stdout",
          "text": [
            "3\n",
            "actual value 3\n",
            "{'agent': array([0, 0]), 'target': [3, 3]}\n",
            "reward 0\n",
            "total_reward 0\n"
          ]
        },
        {
          "output_type": "display_data",
          "data": {
            "text/plain": [
              "<Figure size 432x288 with 1 Axes>"
            ],
            "image/png": "[encoded data removed]"
          },
          "metadata": {
            "needs_background": "light"
          }
        },
        {
          "output_type": "stream",
          "name": "stdout",
          "text": [
            "2\n",
            "actual value 2\n",
            "{'agent': array([0, 1]), 'target': [3, 3]}\n",
            "reward 0\n",
            "total_reward 0\n"
          ]
        },
        {
          "output_type": "display_data",
          "data": {
            "text/plain": [
              "<Figure size 432x288 with 1 Axes>"
            ],
            "image/png": "[encoded data removed]"
          },
          "metadata": {
            "needs_background": "light"
          }
        },
        {
          "output_type": "stream",
          "name": "stdout",
          "text": [
            "3\n",
            "actual value 3\n",
            "{'agent': array([0, 0]), 'target': [3, 3]}\n",
            "reward 0\n",
            "total_reward 0\n"
          ]
        },
        {
          "output_type": "display_data",
          "data": {
            "text/plain": [
              "<Figure size 432x288 with 1 Axes>"
            ],
            "image/png": "[encoded data removed]"
          },
          "metadata": {
            "needs_background": "light"
          }
        },
        {
          "output_type": "stream",
          "name": "stdout",
          "text": [
            "0\n",
            "actual value 0\n",
            "{'agent': array([1, 0]), 'target': [3, 3]}\n",
            "reward 0\n",
            "total_reward 0\n"
          ]
        },
        {
          "output_type": "display_data",
          "data": {
            "text/plain": [
              "<Figure size 432x288 with 1 Axes>"
            ],
            "image/png": "[encoded data removed]"
          },
          "metadata": {
            "needs_background": "light"
          }
        },
        {
          "output_type": "stream",
          "name": "stdout",
          "text": [
            "3\n",
            "actual value 3\n",
            "{'agent': array([1, 0]), 'target': [3, 3]}\n",
            "reward 0\n",
            "total_reward 0\n"
          ]
        },
        {
          "output_type": "display_data",
          "data": {
            "text/plain": [
              "<Figure size 432x288 with 1 Axes>"
            ],
            "image/png": "[encoded data removed]"
          },
          "metadata": {
            "needs_background": "light"
          }
        },
        {
          "output_type": "stream",
          "name": "stdout",
          "text": [
            "2\n",
            "actual value 2\n",
            "{'agent': array([1, 1]), 'target': [3, 3]}\n",
            "reward 5\n",
            "total_reward 5\n"
          ]
        },
        {
          "output_type": "display_data",
          "data": {
            "text/plain": [
              "<Figure size 432x288 with 1 Axes>"
            ],
            "image/png": "[encoded data removed]"
          },
          "metadata": {
            "needs_background": "light"
          }
        },
        {
          "output_type": "stream",
          "name": "stdout",
          "text": [
            "0\n",
            "actual value 0\n",
            "{'agent': array([2, 1]), 'target': [3, 3]}\n",
            "reward 0\n",
            "total_reward 5\n"
          ]
        },
        {
          "output_type": "display_data",
          "data": {
            "text/plain": [
              "<Figure size 432x288 with 1 Axes>"
            ],
            "image/png": "[encoded data removed]"
          },
          "metadata": {
            "needs_background": "light"
          }
        },
        {
          "output_type": "stream",
          "name": "stdout",
          "text": [
            "2\n",
            "actual value 2\n",
            "{'agent': array([2, 2]), 'target': [3, 3]}\n",
            "reward 0\n",
            "total_reward 5\n"
          ]
        },
        {
          "output_type": "display_data",
          "data": {
            "text/plain": [
              "<Figure size 432x288 with 1 Axes>"
            ],
            "image/png": "[encoded data removed]"
          },
          "metadata": {
            "needs_background": "light"
          }
        },
        {
          "output_type": "stream",
          "name": "stdout",
          "text": [
            "3\n",
            "actual value 3\n",
            "{'agent': array([2, 1]), 'target': [3, 3]}\n",
            "reward 0\n",
            "total_reward 5\n"
          ]
        },
        {
          "output_type": "display_data",
          "data": {
            "text/plain": [
              "<Figure size 432x288 with 1 Axes>"
            ],
            "image/png": "[encoded data removed]"
          },
          "metadata": {
            "needs_background": "light"
          }
        }
      ]
    }
  ]
}